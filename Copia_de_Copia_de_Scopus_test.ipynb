{
  "nbformat": 4,
  "nbformat_minor": 0,
  "metadata": {
    "colab": {
      "provenance": [],
      "include_colab_link": true
    },
    "kernelspec": {
      "name": "python3",
      "display_name": "Python 3"
    },
    "language_info": {
      "name": "python"
    }
  },
  "cells": [
    {
      "cell_type": "markdown",
      "metadata": {
        "id": "view-in-github",
        "colab_type": "text"
      },
      "source": [
        "<a href=\"https://colab.research.google.com/github/jorcastro/An-lisis_Scopus-/blob/main/Copia_de_Copia_de_Scopus_test.ipynb\" target=\"_parent\"><img src=\"https://colab.research.google.com/assets/colab-badge.svg\" alt=\"Open In Colab\"/></a>"
      ]
    },
    {
      "cell_type": "code",
      "source": [
        "pip install pybliometrics\n"
      ],
      "metadata": {
        "colab": {
          "base_uri": "https://localhost:8080/"
        },
        "id": "JzlmxIfK--k_",
        "outputId": "c568dc44-99a0-4343-9fd7-f40523b060cb"
      },
      "execution_count": null,
      "outputs": [
        {
          "output_type": "stream",
          "name": "stdout",
          "text": [
            "Looking in indexes: https://pypi.org/simple, https://us-python.pkg.dev/colab-wheels/public/simple/\n",
            "Collecting pybliometrics\n",
            "  Downloading pybliometrics-3.4.0.tar.gz (920 kB)\n",
            "\u001b[2K     \u001b[90m━━━━━━━━━━━━━━━━━━━━━━━━━━━━━━━━━━━━━━━\u001b[0m \u001b[32m920.4/920.4 KB\u001b[0m \u001b[31m5.3 MB/s\u001b[0m eta \u001b[36m0:00:00\u001b[0m\n",
            "\u001b[?25h  Preparing metadata (setup.py) ... \u001b[?25l\u001b[?25hdone\n",
            "Collecting pbr\n",
            "  Using cached pbr-5.11.1-py2.py3-none-any.whl (112 kB)\n",
            "Requirement already satisfied: requests in /usr/local/lib/python3.8/dist-packages (from pybliometrics) (2.25.1)\n",
            "Collecting simplejson\n",
            "  Downloading simplejson-3.18.1-cp38-cp38-manylinux_2_5_x86_64.manylinux1_x86_64.manylinux_2_17_x86_64.manylinux2014_x86_64.whl (135 kB)\n",
            "\u001b[2K     \u001b[90m━━━━━━━━━━━━━━━━━━━━━━━━━━━━━━━━━━━━━━━\u001b[0m \u001b[32m135.5/135.5 KB\u001b[0m \u001b[31m6.0 MB/s\u001b[0m eta \u001b[36m0:00:00\u001b[0m\n",
            "\u001b[?25hRequirement already satisfied: tqdm in /usr/local/lib/python3.8/dist-packages (from pybliometrics) (4.64.1)\n",
            "Requirement already satisfied: certifi>=2017.4.17 in /usr/local/lib/python3.8/dist-packages (from requests->pybliometrics) (2022.12.7)\n",
            "Requirement already satisfied: chardet<5,>=3.0.2 in /usr/local/lib/python3.8/dist-packages (from requests->pybliometrics) (4.0.0)\n",
            "Requirement already satisfied: idna<3,>=2.5 in /usr/local/lib/python3.8/dist-packages (from requests->pybliometrics) (2.10)\n",
            "Requirement already satisfied: urllib3<1.27,>=1.21.1 in /usr/local/lib/python3.8/dist-packages (from requests->pybliometrics) (1.24.3)\n",
            "Building wheels for collected packages: pybliometrics\n",
            "  Building wheel for pybliometrics (setup.py) ... \u001b[?25l\u001b[?25hdone\n",
            "  Created wheel for pybliometrics: filename=pybliometrics-3.4.0-py2.py3-none-any.whl size=73924 sha256=1d3649fdbcd9bac35c9a3129fe71ca23fded8ff8fd4f8e12c9bc3879b4bd337b\n",
            "  Stored in directory: /root/.cache/pip/wheels/45/cb/5d/68f629d5c036acd92ffb60d38807b31707c58c3163a32e446c\n",
            "Successfully built pybliometrics\n",
            "Installing collected packages: simplejson, pbr, pybliometrics\n",
            "Successfully installed pbr-5.11.1 pybliometrics-3.4.0 simplejson-3.18.1\n"
          ]
        }
      ]
    },
    {
      "cell_type": "code",
      "source": [
        "!git clone https://github.com/zhiyzuo/python-scopus.git"
      ],
      "metadata": {
        "colab": {
          "base_uri": "https://localhost:8080/"
        },
        "id": "mAQGKmlI_BdF",
        "outputId": "5b4d3d70-6115-4c22-d74a-5ad6e71edd47"
      },
      "execution_count": null,
      "outputs": [
        {
          "output_type": "stream",
          "name": "stdout",
          "text": [
            "Cloning into 'python-scopus'...\n",
            "remote: Enumerating objects: 471, done.\u001b[K\n",
            "remote: Total 471 (delta 0), reused 0 (delta 0), pack-reused 471\u001b[K\n",
            "Receiving objects: 100% (471/471), 259.84 KiB | 1.37 MiB/s, done.\n",
            "Resolving deltas: 100% (266/266), done.\n"
          ]
        }
      ]
    },
    {
      "cell_type": "code",
      "source": [
        "%cd python-scopus/"
      ],
      "metadata": {
        "colab": {
          "base_uri": "https://localhost:8080/"
        },
        "id": "-gUhnIyR_RSt",
        "outputId": "20a595ef-5d55-4f86-9d90-4cf488b8b78f"
      },
      "execution_count": null,
      "outputs": [
        {
          "output_type": "stream",
          "name": "stdout",
          "text": [
            "/content/python-scopus\n"
          ]
        }
      ]
    },
    {
      "cell_type": "code",
      "source": [
        "!python setup.py install"
      ],
      "metadata": {
        "colab": {
          "base_uri": "https://localhost:8080/"
        },
        "id": "1rlpSH9n_Vhj",
        "outputId": "f7503ab4-3287-4598-b021-16091bbdec50"
      },
      "execution_count": null,
      "outputs": [
        {
          "output_type": "stream",
          "name": "stdout",
          "text": [
            "/usr/lib/python3.8/distutils/dist.py:274: UserWarning: Unknown distribution option: 'copyright'\n",
            "  warnings.warn(msg)\n",
            "running install\n",
            "running bdist_egg\n",
            "running egg_info\n",
            "creating pyscopus.egg-info\n",
            "writing pyscopus.egg-info/PKG-INFO\n",
            "writing dependency_links to pyscopus.egg-info/dependency_links.txt\n",
            "writing top-level names to pyscopus.egg-info/top_level.txt\n",
            "writing manifest file 'pyscopus.egg-info/SOURCES.txt'\n",
            "reading manifest template 'MANIFEST.in'\n",
            "adding license file 'LICENSE'\n",
            "writing manifest file 'pyscopus.egg-info/SOURCES.txt'\n",
            "installing library code to build/bdist.linux-x86_64/egg\n",
            "running install_lib\n",
            "running build_py\n",
            "creating build\n",
            "creating build/lib\n",
            "creating build/lib/pyscopus\n",
            "copying pyscopus/scopus.py -> build/lib/pyscopus\n",
            "copying pyscopus/utils.py -> build/lib/pyscopus\n",
            "copying pyscopus/APIURI.py -> build/lib/pyscopus\n",
            "copying pyscopus/__init__.py -> build/lib/pyscopus\n",
            "creating build/bdist.linux-x86_64\n",
            "creating build/bdist.linux-x86_64/egg\n",
            "creating build/bdist.linux-x86_64/egg/pyscopus\n",
            "copying build/lib/pyscopus/scopus.py -> build/bdist.linux-x86_64/egg/pyscopus\n",
            "copying build/lib/pyscopus/utils.py -> build/bdist.linux-x86_64/egg/pyscopus\n",
            "copying build/lib/pyscopus/APIURI.py -> build/bdist.linux-x86_64/egg/pyscopus\n",
            "copying build/lib/pyscopus/__init__.py -> build/bdist.linux-x86_64/egg/pyscopus\n",
            "byte-compiling build/bdist.linux-x86_64/egg/pyscopus/scopus.py to scopus.cpython-38.pyc\n",
            "byte-compiling build/bdist.linux-x86_64/egg/pyscopus/utils.py to utils.cpython-38.pyc\n",
            "byte-compiling build/bdist.linux-x86_64/egg/pyscopus/APIURI.py to APIURI.cpython-38.pyc\n",
            "byte-compiling build/bdist.linux-x86_64/egg/pyscopus/__init__.py to __init__.cpython-38.pyc\n",
            "creating build/bdist.linux-x86_64/egg/EGG-INFO\n",
            "copying pyscopus.egg-info/PKG-INFO -> build/bdist.linux-x86_64/egg/EGG-INFO\n",
            "copying pyscopus.egg-info/SOURCES.txt -> build/bdist.linux-x86_64/egg/EGG-INFO\n",
            "copying pyscopus.egg-info/dependency_links.txt -> build/bdist.linux-x86_64/egg/EGG-INFO\n",
            "copying pyscopus.egg-info/top_level.txt -> build/bdist.linux-x86_64/egg/EGG-INFO\n",
            "zip_safe flag not set; analyzing archive contents...\n",
            "creating dist\n",
            "creating 'dist/pyscopus-1.0.3a2-py3.8.egg' and adding 'build/bdist.linux-x86_64/egg' to it\n",
            "removing 'build/bdist.linux-x86_64/egg' (and everything under it)\n",
            "Processing pyscopus-1.0.3a2-py3.8.egg\n",
            "Copying pyscopus-1.0.3a2-py3.8.egg to /usr/local/lib/python3.8/dist-packages\n",
            "Adding pyscopus 1.0.3a2 to easy-install.pth file\n",
            "\n",
            "Installed /usr/local/lib/python3.8/dist-packages/pyscopus-1.0.3a2-py3.8.egg\n",
            "Processing dependencies for pyscopus==1.0.3a2\n",
            "Finished processing dependencies for pyscopus==1.0.3a2\n"
          ]
        }
      ]
    },
    {
      "cell_type": "code",
      "execution_count": null,
      "metadata": {
        "id": "bRfVFeSV9xCv",
        "colab": {
          "base_uri": "https://localhost:8080/"
        },
        "outputId": "713911f1-364f-4aff-d529-4568809452ab"
      },
      "outputs": [
        {
          "output_type": "stream",
          "name": "stdout",
          "text": [
            "Creating config file at /root/.pybliometrics/config.ini with default paths...\n",
            "Please enter your API Key(s), obtained from http://dev.elsevier.com/myapikey.html.  Separate multiple keys by comma:\n",
            "\td3530171ea86b995a3a8d21926c29adf\n",
            "API Keys are sufficient for most users.  If you have an InstToken, please enter the token now; otherwise just press Enter:\n",
            "\n",
            "Configuration file successfully created at /root/.pybliometrics/config.ini\n",
            "For details see https://pybliometrics.rtfd.io/en/stable/configuration.html.\n"
          ]
        }
      ],
      "source": [
        "\n",
        "import pybliometrics\n"
      ]
    },
    {
      "cell_type": "code",
      "source": [
        "##Colocar API KEY correspondiente\n",
        "\n",
        "key = ''#Your api key\n",
        "\n"
      ],
      "metadata": {
        "id": "huoJ32Jk9z1G"
      },
      "execution_count": null,
      "outputs": []
    },
    {
      "cell_type": "code",
      "source": [
        "scopus = Scopus(key)"
      ],
      "metadata": {
        "id": "6k29pCJL_s5P",
        "colab": {
          "base_uri": "https://localhost:8080/",
          "height": 165
        },
        "outputId": "57366406-4078-4622-9872-c8416cb3d7cc"
      },
      "execution_count": null,
      "outputs": [
        {
          "output_type": "error",
          "ename": "NameError",
          "evalue": "ignored",
          "traceback": [
            "\u001b[0;31m---------------------------------------------------------------------------\u001b[0m",
            "\u001b[0;31mNameError\u001b[0m                                 Traceback (most recent call last)",
            "\u001b[0;32m<ipython-input-8-4cbc46a97666>\u001b[0m in \u001b[0;36m<module>\u001b[0;34m\u001b[0m\n\u001b[0;32m----> 1\u001b[0;31m \u001b[0mscopus\u001b[0m \u001b[0;34m=\u001b[0m \u001b[0mScopus\u001b[0m\u001b[0;34m(\u001b[0m\u001b[0mkey\u001b[0m\u001b[0;34m)\u001b[0m\u001b[0;34m\u001b[0m\u001b[0;34m\u001b[0m\u001b[0m\n\u001b[0m",
            "\u001b[0;31mNameError\u001b[0m: name 'Scopus' is not defined"
          ]
        }
      ]
    },
    {
      "cell_type": "markdown",
      "source": [
        "Busqueda General"
      ],
      "metadata": {
        "id": "VC4rDWKK_0Ol"
      }
    },
    {
      "cell_type": "code",
      "source": [
        "#Con ese API KEy no deja mas de 2000 registros,\n",
        "#se debe pedir un API KEY especial escribiendo directamente a SCOPUS\n",
        "import pandas as pd\n",
        "\n",
        "\n",
        "df = pybliometrics.scopus.ScopusSearch(\"TITLE-ABS-KEY(bioinformatics and microbiome\",\n",
        "                   view='STANDARD')"
      ],
      "metadata": {
        "id": "uJcQ9EDm_vxw",
        "colab": {
          "base_uri": "https://localhost:8080/",
          "height": 363
        },
        "outputId": "26acf826-b145-4e46-d1cf-df0db96fa327"
      },
      "execution_count": null,
      "outputs": [
        {
          "output_type": "error",
          "ename": "Scopus400Error",
          "evalue": "ignored",
          "traceback": [
            "\u001b[0;31m---------------------------------------------------------------------------\u001b[0m",
            "\u001b[0;31mScopus400Error\u001b[0m                            Traceback (most recent call last)",
            "\u001b[0;32m<ipython-input-13-156344da2867>\u001b[0m in \u001b[0;36m<module>\u001b[0;34m\u001b[0m\n\u001b[1;32m      4\u001b[0m \u001b[0;34m\u001b[0m\u001b[0m\n\u001b[1;32m      5\u001b[0m \u001b[0;34m\u001b[0m\u001b[0m\n\u001b[0;32m----> 6\u001b[0;31m df = pybliometrics.scopus.ScopusSearch(\"TITLE-ABS-KEY(bioinformatics and microbiome\",\n\u001b[0m\u001b[1;32m      7\u001b[0m                    view='STANDARD')\n",
            "\u001b[0;32m/usr/local/lib/python3.8/dist-packages/pybliometrics/scopus/scopus_search.py\u001b[0m in \u001b[0;36m__init__\u001b[0;34m(self, query, refresh, view, verbose, download, integrity_fields, integrity_action, subscriber, **kwds)\u001b[0m\n\u001b[1;32m    204\u001b[0m         \u001b[0mself\u001b[0m\u001b[0;34m.\u001b[0m\u001b[0m_query\u001b[0m \u001b[0;34m=\u001b[0m \u001b[0mquery\u001b[0m\u001b[0;34m\u001b[0m\u001b[0;34m\u001b[0m\u001b[0m\n\u001b[1;32m    205\u001b[0m         \u001b[0mself\u001b[0m\u001b[0;34m.\u001b[0m\u001b[0m_view\u001b[0m \u001b[0;34m=\u001b[0m \u001b[0mview\u001b[0m\u001b[0;34m\u001b[0m\u001b[0;34m\u001b[0m\u001b[0m\n\u001b[0;32m--> 206\u001b[0;31m         Search.__init__(self, query=query, api='ScopusSearch', count=count,\n\u001b[0m\u001b[1;32m    207\u001b[0m                         \u001b[0mcursor\u001b[0m\u001b[0;34m=\u001b[0m\u001b[0msubscriber\u001b[0m\u001b[0;34m,\u001b[0m \u001b[0mdownload\u001b[0m\u001b[0;34m=\u001b[0m\u001b[0mdownload\u001b[0m\u001b[0;34m,\u001b[0m\u001b[0;34m\u001b[0m\u001b[0;34m\u001b[0m\u001b[0m\n\u001b[1;32m    208\u001b[0m                         verbose=verbose, **kwds)\n",
            "\u001b[0;32m/usr/local/lib/python3.8/dist-packages/pybliometrics/scopus/superclasses/search.py\u001b[0m in \u001b[0;36m__init__\u001b[0;34m(self, query, api, count, cursor, download, verbose, **kwds)\u001b[0m\n\u001b[1;32m     60\u001b[0m \u001b[0;34m\u001b[0m\u001b[0m\n\u001b[1;32m     61\u001b[0m         \u001b[0;31m# Init\u001b[0m\u001b[0;34m\u001b[0m\u001b[0;34m\u001b[0m\u001b[0;34m\u001b[0m\u001b[0m\n\u001b[0;32m---> 62\u001b[0;31m         Base.__init__(self, params=params, url=URLS[api], download=download,\n\u001b[0m\u001b[1;32m     63\u001b[0m                       api=api, verbose=verbose)\n\u001b[1;32m     64\u001b[0m \u001b[0;34m\u001b[0m\u001b[0m\n",
            "\u001b[0;32m/usr/local/lib/python3.8/dist-packages/pybliometrics/scopus/superclasses/base.py\u001b[0m in \u001b[0;36m__init__\u001b[0;34m(self, params, url, api, download, verbose, *args, **kwds)\u001b[0m\n\u001b[1;32m     57\u001b[0m                 \u001b[0mself\u001b[0m\u001b[0;34m.\u001b[0m\u001b[0m_json\u001b[0m \u001b[0;34m=\u001b[0m \u001b[0mloads\u001b[0m\u001b[0;34m(\u001b[0m\u001b[0mfname\u001b[0m\u001b[0;34m.\u001b[0m\u001b[0mread_text\u001b[0m\u001b[0;34m(\u001b[0m\u001b[0;34m)\u001b[0m\u001b[0;34m)\u001b[0m\u001b[0;34m\u001b[0m\u001b[0;34m\u001b[0m\u001b[0m\n\u001b[1;32m     58\u001b[0m         \u001b[0;32melse\u001b[0m\u001b[0;34m:\u001b[0m\u001b[0;34m\u001b[0m\u001b[0;34m\u001b[0m\u001b[0m\n\u001b[0;32m---> 59\u001b[0;31m             \u001b[0mresp\u001b[0m \u001b[0;34m=\u001b[0m \u001b[0mget_content\u001b[0m\u001b[0;34m(\u001b[0m\u001b[0murl\u001b[0m\u001b[0;34m,\u001b[0m \u001b[0mapi\u001b[0m\u001b[0;34m,\u001b[0m \u001b[0mparams\u001b[0m\u001b[0;34m,\u001b[0m \u001b[0;34m*\u001b[0m\u001b[0margs\u001b[0m\u001b[0;34m,\u001b[0m \u001b[0;34m**\u001b[0m\u001b[0mkwds\u001b[0m\u001b[0;34m)\u001b[0m\u001b[0;34m\u001b[0m\u001b[0;34m\u001b[0m\u001b[0m\n\u001b[0m\u001b[1;32m     60\u001b[0m             \u001b[0mheader\u001b[0m \u001b[0;34m=\u001b[0m \u001b[0mresp\u001b[0m\u001b[0;34m.\u001b[0m\u001b[0mheaders\u001b[0m\u001b[0;34m\u001b[0m\u001b[0;34m\u001b[0m\u001b[0m\n\u001b[1;32m     61\u001b[0m             \u001b[0;32mif\u001b[0m \u001b[0msearch_request\u001b[0m\u001b[0;34m:\u001b[0m\u001b[0;34m\u001b[0m\u001b[0;34m\u001b[0m\u001b[0m\n",
            "\u001b[0;32m/usr/local/lib/python3.8/dist-packages/pybliometrics/scopus/utils/get_content.py\u001b[0m in \u001b[0;36mget_content\u001b[0;34m(url, api, params, **kwds)\u001b[0m\n\u001b[1;32m    109\u001b[0m             \u001b[0;32mexcept\u001b[0m\u001b[0;34m:\u001b[0m\u001b[0;34m\u001b[0m\u001b[0;34m\u001b[0m\u001b[0m\n\u001b[1;32m    110\u001b[0m                 \u001b[0mreason\u001b[0m \u001b[0;34m=\u001b[0m \u001b[0;34m\"\"\u001b[0m\u001b[0;34m\u001b[0m\u001b[0;34m\u001b[0m\u001b[0m\n\u001b[0;32m--> 111\u001b[0;31m         \u001b[0;32mraise\u001b[0m \u001b[0merrors\u001b[0m\u001b[0;34m[\u001b[0m\u001b[0mresp\u001b[0m\u001b[0;34m.\u001b[0m\u001b[0mstatus_code\u001b[0m\u001b[0;34m]\u001b[0m\u001b[0;34m(\u001b[0m\u001b[0mreason\u001b[0m\u001b[0;34m)\u001b[0m\u001b[0;34m\u001b[0m\u001b[0;34m\u001b[0m\u001b[0m\n\u001b[0m\u001b[1;32m    112\u001b[0m     \u001b[0;32mexcept\u001b[0m \u001b[0mKeyError\u001b[0m\u001b[0;34m:\u001b[0m\u001b[0;34m\u001b[0m\u001b[0;34m\u001b[0m\u001b[0m\n\u001b[1;32m    113\u001b[0m         \u001b[0mresp\u001b[0m\u001b[0;34m.\u001b[0m\u001b[0mraise_for_status\u001b[0m\u001b[0;34m(\u001b[0m\u001b[0;34m)\u001b[0m\u001b[0;34m\u001b[0m\u001b[0;34m\u001b[0m\u001b[0m\n",
            "\u001b[0;31mScopus400Error\u001b[0m: Exceeds the maximum number allowed for the service level"
          ]
        }
      ]
    },
    {
      "cell_type": "code",
      "source": [
        "df"
      ],
      "metadata": {
        "id": "rUMR_aoR_4AL"
      },
      "execution_count": null,
      "outputs": []
    },
    {
      "cell_type": "code",
      "source": [],
      "metadata": {
        "id": "Bmds4lr0p7zW"
      },
      "execution_count": null,
      "outputs": []
    },
    {
      "cell_type": "code",
      "source": [
        "#guardar esto en un excel\n",
        "df.to_excel('busqueda1.xlsx')"
      ],
      "metadata": {
        "id": "ztU4ozQuCu2z"
      },
      "execution_count": null,
      "outputs": []
    },
    {
      "cell_type": "code",
      "source": [
        "%ls"
      ],
      "metadata": {
        "id": "Me-1Nse6Du0d"
      },
      "execution_count": null,
      "outputs": []
    },
    {
      "cell_type": "code",
      "source": [
        "df.dtypes"
      ],
      "metadata": {
        "id": "C4VjeVlN8LeN"
      },
      "execution_count": null,
      "outputs": []
    },
    {
      "cell_type": "code",
      "source": [
        "df[[\"subtype_description\"]]"
      ],
      "metadata": {
        "id": "5CwjwKz2DyhA"
      },
      "execution_count": null,
      "outputs": []
    },
    {
      "cell_type": "code",
      "source": [
        "#numero de articulos\n",
        "NArtic= (len(df.loc[df.loc[:, 'subtype_description'] == 'Article']))\n",
        "df.loc[df.loc[:, 'subtype_description'] == 'Article']\n"
      ],
      "metadata": {
        "id": "B7l0gSD6E_2c"
      },
      "execution_count": null,
      "outputs": []
    },
    {
      "cell_type": "code",
      "source": [
        "print (NArtic)"
      ],
      "metadata": {
        "id": "tX6RdZpq-uok"
      },
      "execution_count": null,
      "outputs": []
    },
    {
      "cell_type": "code",
      "source": [
        "#numero de Conference Paper\n",
        "confe= (len(df.loc[df.loc[:, 'subtype_description'] == 'Conference Paper']))\n",
        "df.loc[df.loc[:, 'subtype_description'] == 'Conference Paper']"
      ],
      "metadata": {
        "id": "bFpPmg7K_kgt"
      },
      "execution_count": null,
      "outputs": []
    },
    {
      "cell_type": "code",
      "source": [
        "print(confe)"
      ],
      "metadata": {
        "id": "7kjOJNl4_38g"
      },
      "execution_count": null,
      "outputs": []
    },
    {
      "cell_type": "code",
      "source": [
        "encuestas= (len(df.loc[df.loc[:, 'subtype_description'] == 'Short Survey']))\n",
        "df.loc[df.loc[:, 'subtype_description'] == 'Short Survey']"
      ],
      "metadata": {
        "id": "Dsroy6U5_BWU"
      },
      "execution_count": null,
      "outputs": []
    },
    {
      "cell_type": "code",
      "source": [
        "print (encuestas)"
      ],
      "metadata": {
        "id": "FmFbxdpN_e2E"
      },
      "execution_count": null,
      "outputs": []
    },
    {
      "cell_type": "code",
      "source": [
        "#ver subtype_description que no se vean a simple vista\n",
        "df1=df.loc[df.loc[:, 'subtype_description'] != 'Short Survey']\n",
        "df2=df1.loc[df.loc[:, 'subtype_description'] != 'Conference Paper']\n",
        "df3=df2.loc[df.loc[:, 'subtype_description'] != 'Article']\n",
        "df4=df3.loc[df.loc[:, 'subtype_description'] != 'Editorial']\n",
        "df5=df4.loc[df.loc[:, 'subtype_description'] != 'Review']\n",
        "df6=df5.loc[df.loc[:, 'subtype_description'] != 'Note']\n",
        "df6.loc[df.loc[:, 'subtype_description'] != 'Book Chapter']\n",
        "\n"
      ],
      "metadata": {
        "id": "0fX3IVVSACrY"
      },
      "execution_count": null,
      "outputs": []
    },
    {
      "cell_type": "code",
      "source": [
        "#numero editorial\n",
        "editorial= (len(df.loc[df.loc[:, 'subtype_description'] == 'Editorial']))\n",
        "df.loc[df.loc[:, 'subtype_description'] == 'Editorial']"
      ],
      "metadata": {
        "id": "Z74UeBlgEx5m"
      },
      "execution_count": null,
      "outputs": []
    },
    {
      "cell_type": "code",
      "source": [
        "print (editorial)"
      ],
      "metadata": {
        "id": "14s1xPpWFBM_"
      },
      "execution_count": null,
      "outputs": []
    },
    {
      "cell_type": "code",
      "source": [
        "#numero review\n",
        "revi= (len(df.loc[df.loc[:, 'subtype_description'] == 'Review']))\n",
        "df.loc[df.loc[:, 'subtype_description'] == 'Review']"
      ],
      "metadata": {
        "id": "UXL9UhYOFQKg"
      },
      "execution_count": null,
      "outputs": []
    },
    {
      "cell_type": "code",
      "source": [
        "print(revi)"
      ],
      "metadata": {
        "id": "wmKtvDt7Fk3w"
      },
      "execution_count": null,
      "outputs": []
    },
    {
      "cell_type": "code",
      "source": [
        "#numero de notas\n",
        "nota= (len(df.loc[df.loc[:, 'subtype_description'] == 'Note']))\n",
        "df.loc[df.loc[:, 'subtype_description'] == 'Note']"
      ],
      "metadata": {
        "id": "8nHIdUgoFlPD"
      },
      "execution_count": null,
      "outputs": []
    },
    {
      "cell_type": "code",
      "source": [
        "print(nota)"
      ],
      "metadata": {
        "id": "Hbh44zMAFlh6"
      },
      "execution_count": null,
      "outputs": []
    },
    {
      "cell_type": "code",
      "source": [
        "#numero de Data Paper\n",
        "Data_Paper= (len(df.loc[df.loc[:, 'subtype_description'] == 'Data Paper']))\n",
        "df.loc[df.loc[:, 'subtype_description'] == 'Data Paper']"
      ],
      "metadata": {
        "id": "RysylMH1mhEV"
      },
      "execution_count": null,
      "outputs": []
    },
    {
      "cell_type": "code",
      "source": [
        "print (Data_Paper)"
      ],
      "metadata": {
        "id": "Jtk2d7lImg9t"
      },
      "execution_count": null,
      "outputs": []
    },
    {
      "cell_type": "code",
      "source": [
        "#numero de Erratum\n",
        "erratum= (len(df.loc[df.loc[:, 'subtype_description'] == 'Erratum']))\n",
        "df.loc[df.loc[:, 'subtype_description'] == 'Erratum']"
      ],
      "metadata": {
        "id": "c5iuHcfMmglo"
      },
      "execution_count": null,
      "outputs": []
    },
    {
      "cell_type": "code",
      "source": [
        "print(erratum)"
      ],
      "metadata": {
        "id": "mUkLf8Famga1"
      },
      "execution_count": null,
      "outputs": []
    },
    {
      "cell_type": "code",
      "source": [
        "#numero de Letter\n",
        "letter= (len(df.loc[df.loc[:, 'subtype_description'] == 'Letter']))\n",
        "df.loc[df.loc[:, 'subtype_description'] == 'Letter']"
      ],
      "metadata": {
        "id": "QQWlRXi_mgQF"
      },
      "execution_count": null,
      "outputs": []
    },
    {
      "cell_type": "code",
      "source": [
        "print(letter)"
      ],
      "metadata": {
        "id": "EAGLllYlmgBq"
      },
      "execution_count": null,
      "outputs": []
    },
    {
      "cell_type": "code",
      "source": [
        "#numero de Book Chapter\n",
        "bookchar= (len(df.loc[df.loc[:, 'subtype_description'] == 'Book Chapter']))\n",
        "df.loc[df.loc[:, 'subtype_description'] == 'Book Chapter']"
      ],
      "metadata": {
        "id": "_4l_0jM7A__a"
      },
      "execution_count": null,
      "outputs": []
    },
    {
      "cell_type": "code",
      "source": [
        "print(bookchar)"
      ],
      "metadata": {
        "id": "Ey4H87v4BAbI"
      },
      "execution_count": null,
      "outputs": []
    },
    {
      "cell_type": "code",
      "source": [
        "#numero de Book\n",
        "book= (len(df.loc[df.loc[:, 'subtype_description'] == 'Book']))\n",
        "df.loc[df.loc[:, 'subtype_description'] == 'Book']"
      ],
      "metadata": {
        "id": "H2kmlnwsBBNf"
      },
      "execution_count": null,
      "outputs": []
    },
    {
      "cell_type": "code",
      "source": [
        "print(book)"
      ],
      "metadata": {
        "id": "szqa7C64BB3u"
      },
      "execution_count": null,
      "outputs": []
    },
    {
      "cell_type": "code",
      "source": [
        "#numero de Book\n",
        "confR= (len(df.loc[df.loc[:, 'subtype_description'] == 'Conference Review']))\n",
        "df.loc[df.loc[:, 'subtype_description'] == 'Conference Review']"
      ],
      "metadata": {
        "id": "ivrFQ2PUBCzv"
      },
      "execution_count": null,
      "outputs": []
    },
    {
      "cell_type": "code",
      "source": [
        "print(confR)"
      ],
      "metadata": {
        "id": "U43mf7mbBCkK"
      },
      "execution_count": null,
      "outputs": []
    },
    {
      "cell_type": "code",
      "source": [
        "#comprobacion\n",
        "sum=(nota+revi+editorial+encuestas+NArtic+confe+book+bookchar+letter+erratum+Data_Paper+confR)\n",
        "print(sum)"
      ],
      "metadata": {
        "id": "o-2MpaohFmDA"
      },
      "execution_count": null,
      "outputs": []
    },
    {
      "cell_type": "code",
      "source": [
        "#graficos\n",
        "import matplotlib.pyplot as plt\n",
        "eje_x = ['nota','review','editorial','encuestas','Article','confe','book','bookchar','letter','erratum','Data_Paper','conference paper','erratum']\n",
        "\n",
        "\n",
        "eje_y = [nota,revi,editorial,encuestas,NArtic,confe,book,bookchar,letter,erratum,Data_Paper,confR,erratum]\n",
        "\n",
        "\n",
        "plt.barh(eje_x, eje_y, color=\"purple\")\n",
        "\n",
        "plt.ylabel('tipo de subtype description')\n",
        "\n",
        "plt.xlabel('cantidad')\n",
        "\n",
        "plt.title('subtype description')\n",
        "\n",
        "plt.show()\n"
      ],
      "metadata": {
        "id": "gwEjeBQBTW0y"
      },
      "execution_count": null,
      "outputs": []
    },
    {
      "cell_type": "code",
      "source": [
        "#hay poco mas de un 78% de articulos representando la gran mayor cantidad de publicaciones hecha sobre el tema bioinformatics and microbiome\n",
        "otros=sum-NArtic\n",
        "porcentajes = [otros,NArtic]\n",
        "nombres = [\"otros\",\"articulos\"]\n",
        "plt.pie(porcentajes, labels=nombres, autopct=\"%0.1f %%\")\n",
        "plt.show()\n"
      ],
      "metadata": {
        "id": "5-7aEvYIWAB5"
      },
      "execution_count": null,
      "outputs": []
    },
    {
      "cell_type": "code",
      "source": [
        "#grafico sin articulos\n",
        "eje_x = ['nota','review','editorial','encuestas','confe','book','bookchar','letter','erratum','Data_Paper','conference paper','erratum']\n",
        "\n",
        "\n",
        "eje_y = [nota,revi,editorial,encuestas,confe,book,bookchar,letter,erratum,Data_Paper,confR,erratum]\n",
        "\n",
        "\n",
        "plt.barh(eje_x, eje_y, color=\"purple\")\n",
        "\n",
        "plt.ylabel('tipo de subtype description')\n",
        "\n",
        "plt.xlabel('cantidad')\n",
        "\n",
        "plt.title('subtype description')\n",
        "\n",
        "plt.show()"
      ],
      "metadata": {
        "id": "msuekNVfXw_Z"
      },
      "execution_count": null,
      "outputs": []
    },
    {
      "cell_type": "code",
      "source": [
        "#saque las siguientes variables del grafico y la sume y las puse como \"otros\" para que ael grafico se vea mas ordenado book,letter,Data_Paper,erratum,confR\n",
        "porcentajes = [nota,revi,editorial,encuestas,confe,bookchar,(book+letter+Data_Paper+erratum+confR)]\n",
        "nombres = ['nota','review','editorial','encuestas','confe','bookchar','otros']\n",
        "plt.pie(porcentajes, labels=nombres, autopct=\"%0.1f %%\")\n",
        "plt.title('subtype description 21.7%')\n",
        "plt.show()\n"
      ],
      "metadata": {
        "id": "5hG3XK1xX9fG"
      },
      "execution_count": null,
      "outputs": []
    },
    {
      "cell_type": "code",
      "source": [
        "df[[\"aggregation_type\"]]"
      ],
      "metadata": {
        "id": "kKNyL7pFWUy6"
      },
      "execution_count": null,
      "outputs": []
    },
    {
      "cell_type": "code",
      "source": [
        "df.loc[df.loc[:, 'aggregation_type'] != 'Journal']"
      ],
      "metadata": {
        "id": "JUX_ErGeaTWJ"
      },
      "execution_count": null,
      "outputs": []
    },
    {
      "cell_type": "code",
      "source": [
        "nojournal= (len(df.loc[df.loc[:, 'aggregation_type'] != 'Journal']))"
      ],
      "metadata": {
        "id": "tTr5lNbOaTTo"
      },
      "execution_count": null,
      "outputs": []
    },
    {
      "cell_type": "code",
      "source": [
        "journal= (len(df.loc[df.loc[:, 'aggregation_type'] == 'Journal']))"
      ],
      "metadata": {
        "id": "GNeLoG2GaTRi"
      },
      "execution_count": null,
      "outputs": []
    },
    {
      "cell_type": "code",
      "source": [
        "#comprobacion\n",
        "print (nojournal+journal)"
      ],
      "metadata": {
        "id": "AdII1WNwaTO9"
      },
      "execution_count": null,
      "outputs": []
    },
    {
      "cell_type": "code",
      "source": [
        "#solo el 5.1 % no es un journal\n",
        "porcentajes = [nojournal,journal]\n",
        "nombres = ['otros','journal']\n",
        "desfase=0.2,0\n",
        "plt.pie(porcentajes, labels=nombres, autopct=\"%0.1f %%\", explode=desfase)\n",
        "plt.title('aggregation_type')\n",
        "plt.show()"
      ],
      "metadata": {
        "id": "27WyGuJfaTMh"
      },
      "execution_count": null,
      "outputs": []
    },
    {
      "cell_type": "code",
      "source": [],
      "metadata": {
        "id": "NSHAzjw0aTJ_"
      },
      "execution_count": null,
      "outputs": []
    },
    {
      "cell_type": "code",
      "source": [],
      "metadata": {
        "id": "Vs7swEi9aTHj"
      },
      "execution_count": null,
      "outputs": []
    },
    {
      "cell_type": "code",
      "source": [],
      "metadata": {
        "id": "qnFMUcUfaTE-"
      },
      "execution_count": null,
      "outputs": []
    },
    {
      "cell_type": "code",
      "source": [],
      "metadata": {
        "id": "NA82w_glaTCT"
      },
      "execution_count": null,
      "outputs": []
    },
    {
      "cell_type": "code",
      "source": [],
      "metadata": {
        "id": "mI2Z3C0raS_r"
      },
      "execution_count": null,
      "outputs": []
    },
    {
      "cell_type": "code",
      "source": [],
      "metadata": {
        "id": "37oOYrbNaS8k"
      },
      "execution_count": null,
      "outputs": []
    },
    {
      "cell_type": "code",
      "source": [],
      "metadata": {
        "id": "EN5BhCzVaSz2"
      },
      "execution_count": null,
      "outputs": []
    },
    {
      "cell_type": "code",
      "source": [],
      "metadata": {
        "id": "ptNT0fdyaSkM"
      },
      "execution_count": null,
      "outputs": []
    },
    {
      "cell_type": "markdown",
      "source": [],
      "metadata": {
        "id": "za-79ouADJdB"
      }
    }
  ]
}